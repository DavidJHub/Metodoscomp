{
 "cells": [
  {
   "cell_type": "code",
   "execution_count": 1,
   "metadata": {},
   "outputs": [],
   "source": [
    "\n",
    "\n",
    "import numpy as np\n",
    "import matplotlib.pylab as plt"
   ]
  },
  {
   "cell_type": "code",
   "execution_count": 2,
   "metadata": {},
   "outputs": [],
   "source": [
    "\n",
    "serie1=np.transpose(np.genfromtxt(\"Punto1Datos1_180_2_0.txt\",delimiter=\"\t\",skip_header=3))\n",
    "serie2=np.transpose(np.genfromtxt(\"Punto1Datos2_180_2_0.txt\",delimiter=\"\t\",skip_header=3))\n",
    "serie3=np.transpose(np.genfromtxt(\"Punto1Datos3_180_2_0.txt\",delimiter=\"\t\",skip_header=3))\n",
    "serie4=np.transpose(np.genfromtxt(\"Punto1Datos4_180_2_0.txt\",delimiter=\"\t\",skip_header=3))\n",
    "serie5=np.transpose(np.genfromtxt(\"Punto1Datos5_180_2_0.txt\",delimiter=\"\t\",skip_header=3))"
   ]
  },
  {
   "cell_type": "code",
   "execution_count": 3,
   "metadata": {},
   "outputs": [],
   "source": [
    "#########################################################################################\n",
    "\n",
    "\n",
    "\n",
    "#########################################################################################\n",
    "\n",
    "\n",
    "#errorx=1 + HIERRO\n",
    "#errory=0.05 + HIERRO\n",
    "\n",
    "def maxmins(x):\n",
    "    maxminslocales=[]\n",
    "    X=[]\n",
    "    umbral=4\n",
    "    maxim=0\n",
    "    minim=0\n",
    "    #print(1156564548)\n",
    "    for i in range(800,2040):\n",
    "        menor1=[]\n",
    "        mayor1=[]\n",
    "        for j in range (umbral):\n",
    "            if( i-j != 1and i+j!= i):\n",
    "                menor1.append(x[1][i-j])\n",
    "                mayor1.append(x[1][i+j])\n",
    "\n",
    "        #print(np.max(mayor1))\n",
    "        if x[1][i]<(np.min(menor1))and x[1][i]<(np.min(mayor1)):\n",
    "                maxminslocales.append(x[1][i])\n",
    "                X.append(x[0][i])\n",
    "                #print(\"hola\")\n",
    "        #if x[1][i]>(np.max(menor1))and x[1][i]>(np.max(mayor1)):\n",
    "                #maxminslocales.append(x[1][i])\n",
    "                #X.append(x[0][i])\n",
    "\n",
    "                #print(\"hola\")\n",
    "\n",
    "    return maxminslocales,X\n",
    "\n",
    "\n",
    "\n",
    "#def maxmins(x, umbral):\n",
    " #   B=[]\n",
    "  #  mxmi=[]\n",
    "   # aa=[]\n",
    "    #print(len(x[0]))\n",
    "#    for i in range (1,len(x[0])):\n",
    " #       h=x[1][i]-x[1][i-1]\n",
    "  #      if h==0:\n",
    "   #         B.append(0)\n",
    "    #    else:\n",
    "     #       s1=x[0][i]\n",
    "      #      s2=x[0][i-1]\n",
    "       #     g=(s1-s2)/h\n",
    "        #    B.append(g)\n",
    "         #   \n",
    "#    for i in range (len (B)):\n",
    " #       if B[i]<umbral and B[i]> -1*umbral:\n",
    "  #          mxmi.append(x[1][i])\n",
    "   # for i in range (len (B)):\n",
    "    #    if B[i]<umbral and B[i]> -1*umbral:\n",
    "     #       aa.append(x[1][i])\n",
    "#    return mxmi,aa\n",
    "# print (maxmins(serie1,0.001))\n",
    "    \n",
    "\n",
    "#print(serie1)\n",
    "\n",
    "plt.figure()\n",
    "#plt.rcParams['font.family'] = 'Tahoma'\n",
    "#plt.title(u\"V vs I picos\", fontsize=12)\n",
    "#plt.plot(HIERRO[0],HIERRO[1],'-s',color=\"r\",label=\"Hierro\")\n",
    "plt.plot(serie1[0],serie1[1],'-',color=\"g\",label=\"Serie 1\")\n",
    "plt.plot(serie2[0],serie2[1],'-',color=\"b\",label=\"Serie 2\")\n",
    "plt.plot(serie3[0],serie3[1],'-',color=\"r\",label=\"Serie 3\")\n",
    "plt.plot(serie4[0],serie4[1],'-',color=\"black\",label=\"Serie 4\")\n",
    "plt.plot(serie5[0],serie5[1],'-',color=\"cyan\",label=\"Serie 5\")\n",
    "plt.xlim(0,50)\n",
    "\n",
    "plt.xlabel(\"Voltaje U1 (V)\")\n",
    "plt.ylabel(\"Corriente IA (nA)\")\n",
    "plt.legend()\n",
    "plt.grid()\n",
    "plt.savefig(\"Tempconstante.png\")\n",
    "plt.close()\n",
    "\n",
    "#plt.errorbar(HIERRO[0],HIERRO[1], fmt=\"-s\", color=\"r\",xerr=0.25,yerr=1 ,ecolor='black')\n",
    "\n",
    "\n",
    "\n"
   ]
  },
  {
   "cell_type": "code",
   "execution_count": 9,
   "metadata": {},
   "outputs": [
    {
     "name": "stdout",
     "output_type": "stream",
     "text": [
      "[2.25, 1.1199999999999974, 4.610000000000003, 2.6900000000000013, 2.1199999999999974, 4.859999999999999, 4.979999999999997, 4.940000000000005]\n"
     ]
    }
   ],
   "source": [
    "serie1=np.transpose(np.genfromtxt(\"Punto2Datos1_165_2_0.txt\",delimiter=\"\t\",skip_header=3))\n",
    "serie2=np.transpose(np.genfromtxt(\"Punto2Datos2_170_2_0.txt\",delimiter=\"\t\",skip_header=3))\n",
    "serie3=np.transpose(np.genfromtxt(\"Punto2Datos3_175_2_0.txt\",delimiter=\"\t\",skip_header=3))\n",
    "serie4=np.transpose(np.genfromtxt(\"Punto2Datos4_180_2_0.txt\",delimiter=\"\t\",skip_header=3))\n",
    "serie5=np.transpose(np.genfromtxt(\"Punto2Datos5_185_2_0.txt\",delimiter=\"\t\",skip_header=3))\n",
    "\n",
    "\n",
    "#print(serie1)\n",
    "\n",
    "#print (maxmins(serie1))\n",
    "\n",
    "plt.figure()\n",
    "#plt.rcParams['font.family'] = 'Tahoma'\n",
    "#plt.title(u\"V vs I picos\", fontsize=12)\n",
    "#plt.plot(HIERRO[0],HIERRO[1],'-s',color=\"r\",label=\"Hierro\")\n",
    "plt.plot(serie1[0],serie1[1],'-',color=\"g\",label=\"165\",linewidth=0.8)\n",
    "plt.plot(serie2[0],serie2[1],'-',color=\"b\",label=\"170\",linewidth=0.8)\n",
    "plt.plot(serie3[0],serie3[1],'-',color=\"r\",label=\"175\",linewidth=0.8)\n",
    "plt.plot(serie4[0],serie4[1],'-',color=\"black\",label=\"180\",linewidth=0.8)\n",
    "plt.plot(serie5[0],serie5[1],'-',color=\"cyan\",label=\"185\",linewidth=0.8)\n",
    "plt.plot(maxmins(serie1)[1],maxmins(serie1)[0],'x',color=\"g\")\n",
    "plt.plot(maxmins(serie2)[1],maxmins(serie2)[0],'x',color=\"b\")\n",
    "plt.plot(maxmins(serie3)[1],maxmins(serie3)[0],'x',color=\"r\")\n",
    "plt.plot(maxmins(serie4)[1],maxmins(serie4)[0],'x',color=\"black\")\n",
    "plt.plot(maxmins(serie5)[1],maxmins(serie5)[0],'x',color=\"cyan\")\n",
    "\n",
    "#plt.scatter(maxmins(serie4,0.01)[0],maxmins(serie4,0.01)[1])\n",
    "plt.xlim(0,50)\n",
    "\n",
    "plt.xlabel(\"Voltaje U1 (V)\")\n",
    "plt.ylabel(\"Corriente IA (nA)\")\n",
    "plt.legend()\n",
    "plt.grid()\n",
    "plt.savefig(\"Tempvar.png\")\n",
    "plt.close()\n",
    "\n",
    "def distancias(x):\n",
    "    mins=len(maxmins(x)[1])\n",
    "    dists=[]\n",
    "    for i in range(1,len(maxmins(x)[1])):\n",
    "        primero=maxmins(x)[1][i-1]\n",
    "        segundo=maxmins(x)[1][i]\n",
    "        if  segundo-primero>1:\n",
    "            dists.append(segundo-primero)\n",
    "    return dists\n",
    "print(distancias(serie5))\n",
    "        \n",
    "        \n",
    "\n",
    "\n",
    "\n"
   ]
  },
  {
   "cell_type": "code",
   "execution_count": 24,
   "metadata": {},
   "outputs": [],
   "source": [
    "dist1=[4.48 , 4.79 , 4.57 , 4.68 , 4.61]\n",
    "dist2=[4.74 , 4.88 , 4.78 , 4.80 , 4.81]\n",
    "dist3=[4.86 , 4.93 , 4.92 , 4.98 , 4.86]\n",
    "dist4=[4.96 , 5.00 , 5.00 , 5.01 , 4.98]\n",
    "dist5=[5.04 , 5.04 , 5.18 , 5.05 , 4.95]\n",
    "orden=[2,3,4,5,6]\n",
    "todos=[dist1,dist2,dist3,dist4,dist5]\n",
    "tran=np.transpose(todos)"
   ]
  },
  {
   "cell_type": "code",
   "execution_count": 26,
   "metadata": {},
   "outputs": [
    {
     "data": {
      "text/plain": [
       "[<matplotlib.lines.Line2D at 0x7f0a8532cbe0>]"
      ]
     },
     "execution_count": 26,
     "metadata": {},
     "output_type": "execute_result"
    },
    {
     "data": {
      "image/png": "[encoded data removed]",
      "text/plain": [
       "<Figure size 432x288 with 1 Axes>"
      ]
     },
     "metadata": {
      "needs_background": "light"
     },
     "output_type": "display_data"
    }
   ],
   "source": [
    "plt.figure()\n",
    "plt.plot(orden,tran[0],'s',color=\"r\")\n",
    "plt.plot(orden,tran[1],'s',color=\"b\")\n",
    "plt.plot(orden,tran[2],'s',color=\"g\")\n",
    "plt.plot(orden,tran[3],'s',color=\"black\")\n",
    "plt.plot(orden,tran[4],'s',color=\"c\")\n",
    "\n",
    "\n"
   ]
  },
  {
   "cell_type": "code",
   "execution_count": 70,
   "metadata": {},
   "outputs": [
    {
     "name": "stdout",
     "output_type": "stream",
     "text": [
      "[0.13399999999999865, 4.280000000000006]\n",
      "[0.00000000e+00 3.50175088e-03 7.00350175e-03 ... 6.99299650e+00\n",
      " 6.99649825e+00 7.00000000e+00]\n",
      "[4.28       4.28046923 4.28093847 ... 5.21706153 5.21753077 5.218     ]\n"
     ]
    }
   ],
   "source": [
    "tranr=np.asarray(tran)\n",
    "ordenn=np.asarray(orden)\n",
    "\n",
    "def reg(x,y):\n",
    "    m = (len(x) * np.sum(x*y) - np.sum(x) * np.sum(y))/(len(x)*np.sum(x*x) - np.sum(x) ** 2)\n",
    "    b = (np.sum(y) - m *np.sum(x))/len(x)\n",
    "    return [m,b]\n",
    "print(reg(ordenn,tranr[0]))\n",
    "\n",
    "x1=np.linspace(0,7,2000)\n",
    "print(x1)\n",
    "y1=reg(ordenn,tranr[0])[0]*x1+reg(ordenn,tranr[0])[1]\n",
    "y2=reg(ordenn,tranr[1])[0]*x1+reg(ordenn,tranr[1])[1]\n",
    "y3=reg(ordenn,tranr[2])[0]*x1+reg(ordenn,tranr[2])[1]\n",
    "y4=reg(ordenn,tranr[3])[0]*x1+reg(ordenn,tranr[3])[1]\n",
    "y5=reg(ordenn,tranr[4])[0]*x1+reg(ordenn,tranr[4])[1]\n",
    "print(y1)"
   ]
  },
  {
   "cell_type": "code",
   "execution_count": 79,
   "metadata": {},
   "outputs": [
    {
     "data": {
      "image/png": "[encoded data removed]",
      "text/plain": [
       "<Figure size 432x288 with 1 Axes>"
      ]
     },
     "metadata": {
      "needs_background": "light"
     },
     "output_type": "display_data"
    }
   ],
   "source": [
    "plt.figure()\n",
    "plt.plot(orden,tran[0],'s',color=\"r\")\n",
    "plt.plot(orden,tran[1],'s',color=\"b\")\n",
    "plt.plot(orden,tran[2],'s',color=\"g\")\n",
    "plt.plot(orden,tran[3],'s',color=\"black\")\n",
    "plt.plot(orden,tran[4],'s',color=\"c\")\n",
    "plt.plot(x1,y1,color=\"r\",label=\"165\")\n",
    "plt.plot(x1,y2,color=\"b\",label=\"170\")\n",
    "plt.plot(x1,y3,color=\"g\",label=\"175\")\n",
    "plt.plot(x1,y4,color=\"black\",label=\"180\")\n",
    "plt.plot(x1,y5,color=\"c\",label=\"185\")\n",
    "plt.xlim(1,6.5)\n",
    "plt.ylim(4.4,5.25)\n",
    "\n",
    "plt.xlabel(\"Orden \")\n",
    "plt.ylabel(\"Distancia (Ev)\")\n",
    "plt.legend()\n",
    "plt.grid()\n",
    "\n"
   ]
  },
  {
   "cell_type": "code",
   "execution_count": null,
   "metadata": {},
   "outputs": [],
   "source": []
  },
  {
   "cell_type": "code",
   "execution_count": null,
   "metadata": {},
   "outputs": [],
   "source": []
  }
 ],
 "metadata": {
  "kernelspec": {
   "display_name": "Python 3",
   "language": "python",
   "name": "python3"
  },
  "language_info": {
   "codemirror_mode": {
    "name": "ipython",
    "version": 3
   },
   "file_extension": ".py",
   "mimetype": "text/x-python",
   "name": "python",
   "nbconvert_exporter": "python",
   "pygments_lexer": "ipython3",
   "version": "3.7.3"
  }
 },
 "nbformat": 4,
 "nbformat_minor": 2
}
