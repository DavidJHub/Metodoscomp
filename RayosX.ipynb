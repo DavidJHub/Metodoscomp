{
 "cells": [
  {
   "cell_type": "code",
   "execution_count": 1,
   "metadata": {},
   "outputs": [],
   "source": [
    "import numpy as np\n",
    "import matplotlib.pylab as plt"
   ]
  },
  {
   "cell_type": "code",
   "execution_count": 2,
   "metadata": {},
   "outputs": [
    {
     "name": "stdout",
     "output_type": "stream",
     "text": [
      "[[7.4000e+00 7.6000e+00 7.8000e+00 ... 1.0940e+02 1.0960e+02 1.0980e+02]\n",
      " [1.4364e+04 1.1866e+04 7.0010e+03 ... 8.8000e+01 8.7000e+01 9.6000e+01]]\n"
     ]
    }
   ],
   "source": [
    "serie1=np.transpose(np.genfromtxt(\"Medida1_35_3_55.txt\",delimiter=\"\t\",skip_header=10)) \n",
    "print (serie1)"
   ]
  },
  {
   "cell_type": "code",
   "execution_count": 3,
   "metadata": {},
   "outputs": [
    {
     "data": {
      "text/plain": [
       "Text(0, 0.5, 'Intensidad (R(35kV) Imp/s)')"
      ]
     },
     "execution_count": 3,
     "metadata": {},
     "output_type": "execute_result"
    },
    {
     "data": {
      "image/png": "[encoded data removed]",
      "text/plain": [
       "<Figure size 432x288 with 1 Axes>"
      ]
     },
     "metadata": {
      "needs_background": "light"
     },
     "output_type": "display_data"
    }
   ],
   "source": [
    "plt.figure()\n",
    "plt.plot(serie1[0]/2,serie1[1], color=\"r\",label=\"\")\n",
    "plt.xlabel(\"Angulo (grados)\")\n",
    "plt.ylabel(\"Intensidad (R(35kV) Imp/s)\")\n",
    "\n"
   ]
  },
  {
   "cell_type": "code",
   "execution_count": 4,
   "metadata": {},
   "outputs": [],
   "source": [
    "def bragg():\n",
    "    angulos=serie1[0]/2\n",
    "    rt=[]\n",
    "    test=[]\n",
    "    for i in range(len(angulos)):\n",
    "        rt.append(2*np.sin(angulos[i]*np.pi/180)*2.014/1000000000)\n",
    "        if rt[i]>0.1:\n",
    "            test.append(rt[i])\n",
    "        \n",
    "    return rt\n",
    "\n",
    "#print (bragg())\n"
   ]
  },
  {
   "cell_type": "code",
   "execution_count": 5,
   "metadata": {},
   "outputs": [
    {
     "data": {
      "text/plain": [
       "Text(0, 0.5, 'Intensidad (R(35kV) Imp/s)')"
      ]
     },
     "execution_count": 5,
     "metadata": {},
     "output_type": "execute_result"
    },
    {
     "data": {
      "image/png": "[encoded data removed]",
      "text/plain": [
       "<Figure size 432x288 with 1 Axes>"
      ]
     },
     "metadata": {
      "needs_background": "light"
     },
     "output_type": "display_data"
    }
   ],
   "source": [
    "plt.figure()\n",
    "plt.plot(bragg(),serie1[1], color=\"r\",label=\"\")\n",
    "plt.xlabel(\"Longitud de onda (m)\")\n",
    "plt.ylabel(\"Intensidad (R(35kV) Imp/s)\")\n"
   ]
  },
  {
   "cell_type": "code",
   "execution_count": 6,
   "metadata": {},
   "outputs": [
    {
     "name": "stdout",
     "output_type": "stream",
     "text": [
      "([1543.0, 387.0, 2817.0, 8163.0, 156.0, 156.0, 108.0, 103.0, 94.0, 566.0, 1961.0], [6.092785839557989e-10, 1.069660041236866e-09, 1.3941595059081416e-09, 1.5414488655665814e-09, 2.0139999999999995e-09, 2.211463910896474e-09, 2.3732829274192613e-09, 2.5648344276097725e-09, 2.6952580824134808e-09, 2.7828743518175855e-09, 3.081103402899443e-09])\n"
     ]
    }
   ],
   "source": [
    "#########################################################################################\n",
    "\n",
    "\n",
    "\n",
    "#########################################################################################\n",
    "\n",
    "\n",
    "#errorx=1 + HIERRO\n",
    "#errory=0.05 + HIERRO\n",
    "\n",
    "def maxmins(x):\n",
    "    maxminslocales=[]\n",
    "    X=[]\n",
    "    umbral=10\n",
    "    maxim=0\n",
    "    minim=0\n",
    "    #print(1156564548)\n",
    "    for i in range(10,480):\n",
    "        menor1=[]\n",
    "        mayor1=[]\n",
    "        for j in range (1,umbral):\n",
    "            if( i-j != 1 and i+j!= i):\n",
    "                menor1.append(x[1][i-j])\n",
    "                mayor1.append(x[1][i+j])\n",
    "\n",
    "        #print(np.max(mayor1))\n",
    "        if x[1][i]>(np.max(menor1))and x[1][i]>(np.max(mayor1)):\n",
    "                maxminslocales.append(x[1][i])\n",
    "                X.append(x[0][i])\n",
    "                #print(\"hola\")\n",
    "        #if x[1][i]>(np.max(menor1))and x[1][i]>(np.max(mayor1)):\n",
    "                #maxminslocales.append(x[1][i])\n",
    "                #X.append(x[0][i])\n",
    "\n",
    "                #print(\"hola\")\n",
    "\n",
    "    return maxminslocales,X\n",
    "\n",
    "array=np.asarray([bragg(),serie1[1]])\n",
    "#print (array)\n",
    "print(maxmins(array))"
   ]
  },
  {
   "cell_type": "code",
   "execution_count": null,
   "metadata": {},
   "outputs": [],
   "source": [
    "plt.figure()\n",
    "plt.plot(bragg(),serie1[1], color=\"r\",label=\"\")\n",
    "plt.plot([6.092785839557989e-10, 1.069660041236866e-09, 1.3941595059081416e-09, 1.5414488655665814e-09, 2.0139999999999995e-09, 2.211463910896474e-09, 2.3732829274192613e-09, 2.5648344276097725e-09, 2.6952580824134808e-09, 2.7828743518175855e-09, 3.081103402899443e-09],maxmins(serie1)[0],'x',color=\"g\")\n",
    "plt.xlabel(\"Longitud de onda $\\lambda$ (m)\")\n",
    "plt.ylabel(\"Intensidad (R(35kV) Imp/s)\")\n",
    "\n",
    "plt.text( 6.092785839557989e-10,maxmins(serie1)[0][0],\"0.60e-09\")\n",
    "\n",
    "plt.text( 1.5414488655665814e-09,maxmins(serie1)[0][3],\"1.54e-09\")\n",
    "plt.text( 2.7828743518175855e-09,maxmins(serie1)[0][9],\"2.78e-09\")\n",
    "plt.text( 3.081103402899443e-09,maxmins(serie1)[0][10],\"3.08e-09\")\n",
    "plt.text( 1.3941595059081416e-09,maxmins(serie1)[0][2],\"1.39e-09\")\n",
    "\n"
   ]
  },
  {
   "cell_type": "code",
   "execution_count": 15,
   "metadata": {},
   "outputs": [],
   "source": [
    "s1=np.transpose(np.genfromtxt(\"Medida2_30_6_16_Al02.txt\",delimiter=\"\t\",skip_header=10)) \n",
    "s2=np.transpose(np.genfromtxt(\"Medida2_30_6_16_Al04.txt\",delimiter=\"\t\",skip_header=10)) \n",
    "s3=np.transpose(np.genfromtxt(\"Medida2_30_6_16_Al06.txt\",delimiter=\"\t\",skip_header=10)) \n",
    "s4=np.transpose(np.genfromtxt(\"Medida2_30_6_16_Al08.txt\",delimiter=\"\t\",skip_header=10)) \n",
    "s5=np.transpose(np.genfromtxt(\"Medida2_30_6_16_Al10.txt\",delimiter=\"\t\",skip_header=10))\n"
   ]
  },
  {
   "cell_type": "code",
   "execution_count": null,
   "metadata": {},
   "outputs": [],
   "source": []
  }
 ],
 "metadata": {
  "kernelspec": {
   "display_name": "Python 3",
   "language": "python",
   "name": "python3"
  },
  "language_info": {
   "codemirror_mode": {
    "name": "ipython",
    "version": 3
   },
   "file_extension": ".py",
   "mimetype": "text/x-python",
   "name": "python",
   "nbconvert_exporter": "python",
   "pygments_lexer": "ipython3",
   "version": "3.7.3"
  }
 },
 "nbformat": 4,
 "nbformat_minor": 2
}
